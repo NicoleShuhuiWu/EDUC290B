{
 "cells": [
  {
   "cell_type": "code",
   "execution_count": null,
   "metadata": {
    "collapsed": true
   },
   "outputs": [],
   "source": [
    "import tweepy\n",
    "\n",
    "\n",
    "# Twitter API credentials\n",
    "# consumer_key = \"KDM3ZNEHXnmF0Lx6QEyQ2GGcs\"\n",
    "# consumer_secret = \"qn6HJndbpxqF4LPpWLWNH2qOYOmKADanMfGMMwqtoCBjsnpQ2U\"\n",
    "# access_key = \"326384294-LDRoptSpuUFKyXXA2psTsAy2AtdoIoMbfwoW1g50\"\n",
    "# access_secret = \"MAJ7S65PFhve5uJZqbxg0pO0ecIaiUbwMv3OeYsjPrbgM\"\n",
    "\n",
    "consumer_key = \"EuGYbkUsKuum9jsbpLK49lQAM\"\n",
    "consumer_secret = \"yvZHWv9zr66LeMmCfTdDlZDMQW44tOkGIdaMC8FGT514OOmL55\"\n",
    "access_key = \"730184614875029504-dtf6hLfg7Nvzac8i0V1ydhsjcP9usLl\"\n",
    "access_secret = \"5gcI13hEM93TgVhzyVh1LG2vetyJU04EO4IuobdrbfLJR\"\n",
    "\n",
    "auth = tweepy.OAuthHandler(consumer_key, consumer_secret)\n",
    "auth.set_access_token(access_key, access_secret)\n",
    "api = tweepy.API(auth)\n",
    "\n",
    "\n",
    "results = tweepy.Cursor(\n",
    "    api.search,\n",
    "    q='Berkeley', #maga\n",
    "    geocode=\"37.871853,-122.258423,80km\",\n",
    "    max_id=\"838205359324080271\").items(1000)"
   ]
  },
  {
   "cell_type": "code",
   "execution_count": null,
   "metadata": {
    "collapsed": false
   },
   "outputs": [],
   "source": [
    "tweets = []\n",
    "for r in results:\n",
    "    tweets.append(r)"
   ]
  },
  {
   "cell_type": "code",
   "execution_count": null,
   "metadata": {
    "collapsed": false
   },
   "outputs": [],
   "source": [
    "len(tweets)"
   ]
  },
  {
   "cell_type": "code",
   "execution_count": null,
   "metadata": {
    "collapsed": false,
    "scrolled": true
   },
   "outputs": [],
   "source": [
    "for t in tweets:\n",
    "    print(t.created_at.strftime(\"%Y-%b-%d %H:%M\"))\n",
    "    print(t.id)\n",
    "    print()"
   ]
  },
  {
   "cell_type": "code",
   "execution_count": null,
   "metadata": {
    "collapsed": false
   },
   "outputs": [],
   "source": [
    "import pickle\n",
    "\n",
    "old = pickle.load(open(\"tweets.pkl\", \"rb\"))\n",
    "\n",
    "old.extend(tweets)\n",
    "\n",
    "pickle.dump(old, open(\"tweets.pkl\", \"wb\"))"
   ]
  },
  {
   "cell_type": "code",
   "execution_count": null,
   "metadata": {
    "collapsed": false
   },
   "outputs": [],
   "source": [
    "tweets[-10].text"
   ]
  },
  {
   "cell_type": "code",
   "execution_count": null,
   "metadata": {
    "collapsed": true
   },
   "outputs": [],
   "source": []
  }
 ],
 "metadata": {
  "anaconda-cloud": {},
  "kernelspec": {
   "display_name": "Python [conda root]",
   "language": "python",
   "name": "conda-root-py"
  },
  "language_info": {
   "codemirror_mode": {
    "name": "ipython",
    "version": 3
   },
   "file_extension": ".py",
   "mimetype": "text/x-python",
   "name": "python",
   "nbconvert_exporter": "python",
   "pygments_lexer": "ipython3",
   "version": "3.5.2"
  }
 },
 "nbformat": 4,
 "nbformat_minor": 1
}
