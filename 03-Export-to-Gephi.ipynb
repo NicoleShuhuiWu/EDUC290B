{
 "cells": [
  {
   "cell_type": "markdown",
   "metadata": {},
   "source": [
    "<a id=march></a>\n",
    "## Export Tweets to Gephi CSVs"
   ]
  },
  {
   "cell_type": "code",
   "execution_count": null,
   "metadata": {
    "collapsed": false
   },
   "outputs": [],
   "source": [
    "import pickle\n",
    "import csv\n",
    "from collections import Counter\n",
    "\n",
    "data = pickle.load(open(\"tweets.pkl\", \"rb\"))\n",
    "\n",
    "print(len(data))"
   ]
  },
  {
   "cell_type": "markdown",
   "metadata": {},
   "source": [
    "## Make User IDs"
   ]
  },
  {
   "cell_type": "code",
   "execution_count": null,
   "metadata": {
    "collapsed": false
   },
   "outputs": [],
   "source": [
    "sn_list = [t.user.screen_name for t in data]\n",
    "\n",
    "for t in data:\n",
    "    for sn in t.entities['user_mentions']:\n",
    "        sn_list.append(sn['screen_name'])\n",
    "\n",
    "user_count = dict(Counter(sn_list))\n",
    "\n",
    "sn_list = list(set(sn_list))"
   ]
  },
  {
   "cell_type": "code",
   "execution_count": null,
   "metadata": {
    "collapsed": false
   },
   "outputs": [],
   "source": [
    "sn_dict = {}\n",
    "\n",
    "idn = 1\n",
    "for n in sn_list:\n",
    "    sn_dict[n] = {'id': idn,\n",
    "                  'mentions': [],\n",
    "                  'hash': []\n",
    "                 }\n",
    "    idn += 1"
   ]
  },
  {
   "cell_type": "markdown",
   "metadata": {},
   "source": [
    "## Make Hashtag IDs"
   ]
  },
  {
   "cell_type": "code",
   "execution_count": null,
   "metadata": {
    "collapsed": true
   },
   "outputs": [],
   "source": [
    "hash_list = []\n",
    "\n",
    "for t in data:\n",
    "    for h in t.entities[\"hashtags\"]:\n",
    "        hash_list.append(h[\"text\"])\n",
    "        \n",
    "hash_count = dict(Counter(hash_list))\n",
    "        \n",
    "hash_list = list(set(hash_list))"
   ]
  },
  {
   "cell_type": "code",
   "execution_count": null,
   "metadata": {
    "collapsed": false
   },
   "outputs": [],
   "source": [
    "hash_dict = {}\n",
    "\n",
    "for n in hash_list:\n",
    "    hash_dict[n] = idn\n",
    "\n",
    "    idn += 1"
   ]
  },
  {
   "cell_type": "markdown",
   "metadata": {},
   "source": [
    "## Add Mentions and Hashtags to User"
   ]
  },
  {
   "cell_type": "code",
   "execution_count": null,
   "metadata": {
    "collapsed": false
   },
   "outputs": [],
   "source": [
    "for t in data:\n",
    "    for sn in t.entities[\"user_mentions\"]:\n",
    "        sn_dict[t.user.screen_name]['mentions'].append(sn_dict[sn[\"screen_name\"]]['id'])\n",
    "    for h in t.entities[\"hashtags\"]:\n",
    "        hash_id = hash_dict[h[\"text\"]]\n",
    "        sn_dict[t.user.screen_name]['hash'].append(hash_id)"
   ]
  },
  {
   "cell_type": "markdown",
   "metadata": {},
   "source": [
    "## Write CSVs"
   ]
  },
  {
   "cell_type": "code",
   "execution_count": null,
   "metadata": {
    "collapsed": false
   },
   "outputs": [],
   "source": [
    "id_rows = [['Nodes', 'Id', 'Count']]\n",
    "\n",
    "for k in sn_dict.keys():\n",
    "    id_rows.append([k, sn_dict[k]['id'], user_count[k]])\n",
    "\n",
    "with open(\"nodes-user-ids.csv\", \"w\") as fp:\n",
    "    wr = csv.writer(fp, dialect='excel')\n",
    "    wr.writerows(id_rows)"
   ]
  },
  {
   "cell_type": "code",
   "execution_count": null,
   "metadata": {
    "collapsed": false
   },
   "outputs": [],
   "source": [
    "id_rows = [['Nodes', 'Id', 'Count']]\n",
    "\n",
    "for k in hash_dict.keys():\n",
    "    id_rows.append([k, hash_dict[k], hash_count[k]])\n",
    "\n",
    "with open(\"nodes-hashtags-ids.csv\", \"w\") as fp:\n",
    "    wr = csv.writer(fp, dialect='excel')\n",
    "    wr.writerows(id_rows)"
   ]
  },
  {
   "cell_type": "code",
   "execution_count": null,
   "metadata": {
    "collapsed": false
   },
   "outputs": [],
   "source": [
    "mention_rows = [['Source', 'Target', 'Count']]\n",
    "\n",
    "for k in sn_dict.keys():\n",
    "    if len(sn_dict[k]['mentions']) > 0:\n",
    "        if len(list(set(sn_dict[k]['mentions']))) == 1:\n",
    "            mention_rows.append([sn_dict[k]['id']] + list(set(sn_dict[k]['mentions'])) + [1])\n",
    "        else:\n",
    "            indiv_count = dict(Counter(sn_dict[k]['mentions']))\n",
    "            for m in indiv_count.keys():\n",
    "                mention_rows.append([sn_dict[k]['id']] + [m] + [indiv_count[m]])\n",
    "\n",
    "with open(\"edges-user-mentions.csv\", \"w\") as fp:\n",
    "    wr = csv.writer(fp, dialect='excel')\n",
    "    wr.writerows(mention_rows)"
   ]
  },
  {
   "cell_type": "code",
   "execution_count": null,
   "metadata": {
    "collapsed": false
   },
   "outputs": [],
   "source": [
    "hash_rows = [['Source', 'Target', 'Count']]\n",
    "\n",
    "for k in sn_dict.keys():\n",
    "    if len(sn_dict[k]['hash']) > 0:\n",
    "        if len(list(set(sn_dict[k]['hash']))) == 1:\n",
    "            hash_rows.append([sn_dict[k]['id']] + list(set(sn_dict[k]['hash'])) + [1])\n",
    "        else:\n",
    "            indiv_count = dict(Counter(sn_dict[k]['hash']))\n",
    "            for m in indiv_count.keys():\n",
    "                hash_rows.append([sn_dict[k]['id']] + [m] + [indiv_count[m]])\n",
    "\n",
    "with open(\"edges-user-hashtags.csv\", \"w\") as fp:\n",
    "    wr = csv.writer(fp, dialect='excel')\n",
    "    wr.writerows(hash_rows)"
   ]
  },
  {
   "cell_type": "code",
   "execution_count": null,
   "metadata": {
    "collapsed": true
   },
   "outputs": [],
   "source": []
  }
 ],
 "metadata": {
  "anaconda-cloud": {},
  "kernelspec": {
   "display_name": "Python [conda root]",
   "language": "python",
   "name": "conda-root-py"
  },
  "language_info": {
   "codemirror_mode": {
    "name": "ipython",
    "version": 3
   },
   "file_extension": ".py",
   "mimetype": "text/x-python",
   "name": "python",
   "nbconvert_exporter": "python",
   "pygments_lexer": "ipython3",
   "version": "3.5.2"
  }
 },
 "nbformat": 4,
 "nbformat_minor": 1
}
