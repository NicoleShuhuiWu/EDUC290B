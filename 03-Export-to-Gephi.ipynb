{
 "cells": [
  {
   "cell_type": "markdown",
   "metadata": {},
   "source": [
    "<a id=march></a>\n",
    "## Export Tweets to Gephi CSVs"
   ]
  },
  {
   "cell_type": "code",
   "execution_count": null,
   "metadata": {
    "collapsed": false
   },
   "outputs": [],
   "source": [
    "import pickle\n",
    "import csv\n",
    "\n",
    "data = pickle.load(open(\"tweets.pkl\", \"rb\"))\n",
    "\n",
    "print(len(data))"
   ]
  },
  {
   "cell_type": "code",
   "execution_count": null,
   "metadata": {
    "collapsed": true
   },
   "outputs": [],
   "source": [
    "sn_list = [t.user.screen_name for t in data]\n",
    "\n",
    "for t in data:\n",
    "    for sn in t.entities['user_mentions']:\n",
    "        sn_list.append(sn['screen_name'])\n",
    "        \n",
    "sn_list = list(set(sn_list))"
   ]
  },
  {
   "cell_type": "code",
   "execution_count": null,
   "metadata": {
    "collapsed": false
   },
   "outputs": [],
   "source": [
    "sn_dict = {}\n",
    "\n",
    "idn = 1\n",
    "for n in sn_list:\n",
    "    sn_dict[n] = {'id': idn,\n",
    "                  'mentions': []\n",
    "                 }\n",
    "    idn += 1"
   ]
  },
  {
   "cell_type": "code",
   "execution_count": null,
   "metadata": {
    "collapsed": false
   },
   "outputs": [],
   "source": [
    "for t in data:\n",
    "    for sn in t.entities[\"user_mentions\"]:\n",
    "        sn_dict[t.user.screen_name]['mentions'].append(sn_dict[sn[\"screen_name\"]]['id'])"
   ]
  },
  {
   "cell_type": "code",
   "execution_count": null,
   "metadata": {
    "collapsed": false
   },
   "outputs": [],
   "source": [
    "id_rows = [['Nodes', 'Id']]\n",
    "\n",
    "for k in sn_dict.keys():\n",
    "    id_rows.append([k, sn_dict[k]['id']])\n",
    "\n",
    "with open(\"id_sns.csv\", \"w\") as fp:\n",
    "    wr = csv.writer(fp, dialect='excel')\n",
    "    wr.writerows(id_rows)"
   ]
  },
  {
   "cell_type": "code",
   "execution_count": null,
   "metadata": {
    "collapsed": true
   },
   "outputs": [],
   "source": [
    "mention_rows = [['Source', 'Target']]\n",
    "\n",
    "for k in sn_dict.keys():\n",
    "    if len(sn_dict[k]['mentions']) > 0:\n",
    "        if len(list(set(sn_dict[k]['mentions']))) == 1:\n",
    "            mention_rows.append([sn_dict[k]['id']] + list(set(sn_dict[k]['mentions'])))\n",
    "        else:\n",
    "            for m in list(set(sn_dict[k]['mentions'])):\n",
    "                mention_rows.append([sn_dict[k]['id']] + [m])\n",
    "\n",
    "with open(\"id_mentions.csv\", \"w\") as fp:\n",
    "    wr = csv.writer(fp, dialect='excel')\n",
    "    wr.writerows(mention_rows)"
   ]
  }
 ],
 "metadata": {
  "anaconda-cloud": {},
  "kernelspec": {
   "display_name": "Python [conda root]",
   "language": "python",
   "name": "conda-root-py"
  },
  "language_info": {
   "codemirror_mode": {
    "name": "ipython",
    "version": 3
   },
   "file_extension": ".py",
   "mimetype": "text/x-python",
   "name": "python",
   "nbconvert_exporter": "python",
   "pygments_lexer": "ipython3",
   "version": "3.5.2"
  }
 },
 "nbformat": 4,
 "nbformat_minor": 1
}
