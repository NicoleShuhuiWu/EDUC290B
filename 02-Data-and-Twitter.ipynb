{
 "cells": [
  {
   "cell_type": "markdown",
   "metadata": {},
   "source": [
    "# Data and Twitter Analysis\n",
    "---\n",
    "\n",
    "This notebook introduces students to common data formats and how Python can read and write them. How one decides to structure data will ultimately shape the storage and possible analyses. After a discussion of the data, an exploration of a Twitter API response will exemplify JSON and tweets from the March 4th, 2017 March4Trump in Berkeey will serve as a basis for analysis. At the end, students will collect their own data to explore.\n",
    "\n",
    "*Estimated Time: 180 minutes*\n",
    "\n",
    "---\n",
    "\n",
    "**Topics Covered:**\n",
    "- .xls and .csv formats\n",
    "- .html and .xml\n",
    "- .json\n",
    "- Twitter API\n",
    "- Twitter analysis and visualization\n",
    "\n",
    "**Parts:**\n",
    "- [Data Formats and Storage](#dataformats)\n",
    "\n",
    "---\n",
    "<a id=dataformats></a>\n",
    "## Data Formats and Storage\n",
    "\n",
    "Most people are familiar with Microsoft Excel spreadsheet's `.xls` format, great for storing tabular data. However, Microsoft encodes the `.xls` format with a lot of information for displaying it in the software environment as well as remembering any formulas you may have used, among other things. The extra information is often not necessary to simply store the raw data, and is not easily readable by other software. A \"bare-bones\" `.xls` format is the `.csv`, or \"comma-separated value\". You may have encountered this format before. It's not any more complicated than the name. All values are separated by commas to delimit columns, while the lines represent rows.\n",
    "\n",
    "The table:\n",
    "\n",
    "| Name    | Age | Department | Hometown |\n",
    "|---------|-----|------------|----------|\n",
    "| Chris   | 27  | German     | Plymouth |\n",
    "| Jarrett | 25  | Physics    | Newark   |\n",
    "| Sofia   | 22  | Chemistry  | Boston   |\n",
    "| Esther  | 24  | Economics  | Oakland  |\n",
    "\n",
    "\n",
    "would be represented as:\n",
    "\n",
    "~~~\n",
    "Name, Age, Department, Hometown\n",
    "Chris, 27, German, Plymouth\n",
    "Jarrett, 25, Physics, Newark\n",
    "Sofia, 22, Chemistry, Boston\n",
    "Esther, 24, Economics, Oakland\n",
    "~~~\n",
    "\n",
    "Notably, the header is not distinguishable except for being the first row. There is also no way to add any metadata or notes unless it fits into a column or row. Nevertheless, `.csv` is standard for simple data, and is easily read by most software. If you are collaborating with researchers or using different pieces of software you'll want to use this format.\n",
    "\n",
    "Python can easily dump data into a `.csv`, the most straight-forward approach would be dumping rows from a list of lists, each sublist being a row in your data."
   ]
  },
  {
   "cell_type": "code",
   "execution_count": null,
   "metadata": {
    "collapsed": true
   },
   "outputs": [],
   "source": [
    "import csv\n",
    "\n",
    "my_data = [['Name', 'Age', 'Department', 'Hometown'],\n",
    "            ['Chris', '27', 'German', 'Plymouth'],\n",
    "            ['Jarrett', '25', 'Physics', 'Newark',],\n",
    "            ['Sofia', '22', 'Chemistry', 'Boston'],\n",
    "            ['Esther', '24', 'Economics', 'Oakland']\n",
    "        ]\n",
    "\n",
    "with open(\"my_data.csv\", \"w\") as f:\n",
    "    writer = csv.writer(f)\n",
    "    writer.writerows(my_data)"
   ]
  },
  {
   "cell_type": "markdown",
   "metadata": {},
   "source": [
    "Reading a `.csv` is just as easy:"
   ]
  },
  {
   "cell_type": "code",
   "execution_count": null,
   "metadata": {
    "collapsed": false
   },
   "outputs": [],
   "source": [
    "with open(\"my_data.csv\", \"r\") as f:\n",
    "    csv_data = list(csv.reader(f))\n",
    "    \n",
    "print(csv_data)"
   ]
  },
  {
   "cell_type": "markdown",
   "metadata": {},
   "source": [
    "If you still prefer Excel for analysis, you can go ahead and open this file in Excel!"
   ]
  },
  {
   "cell_type": "code",
   "execution_count": null,
   "metadata": {
    "collapsed": true
   },
   "outputs": [],
   "source": []
  }
 ],
 "metadata": {
  "anaconda-cloud": {},
  "kernelspec": {
   "display_name": "Python [conda root]",
   "language": "python",
   "name": "conda-root-py"
  },
  "language_info": {
   "codemirror_mode": {
    "name": "ipython",
    "version": 3
   },
   "file_extension": ".py",
   "mimetype": "text/x-python",
   "name": "python",
   "nbconvert_exporter": "python",
   "pygments_lexer": "ipython3",
   "version": "3.5.2"
  }
 },
 "nbformat": 4,
 "nbformat_minor": 1
}
